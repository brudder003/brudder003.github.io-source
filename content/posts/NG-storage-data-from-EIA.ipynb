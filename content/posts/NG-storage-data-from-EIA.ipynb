{
 "cells": [
  {
   "cell_type": "markdown",
   "metadata": {},
   "source": [
    "### Grabbing all Natural Gas storage data from the Energy Information Agency (EIA)\n",
    "\n"
   ]
  },
  {
   "cell_type": "code",
   "execution_count": 18,
   "metadata": {
    "collapsed": true
   },
   "outputs": [],
   "source": [
    "import requests\n",
    "import pandas as pd"
   ]
  },
  {
   "cell_type": "code",
   "execution_count": 10,
   "metadata": {
    "collapsed": false
   },
   "outputs": [],
   "source": [
    "#this is not pushed to git hub, my api key is there\n",
    "import config"
   ]
  },
  {
   "cell_type": "code",
   "execution_count": 11,
   "metadata": {
    "collapsed": false
   },
   "outputs": [],
   "source": [
    "#point MY_KEY at a working eia api key\n",
    "MY_KEY = config.EIA_API"
   ]
  },
  {
   "cell_type": "code",
   "execution_count": 12,
   "metadata": {
    "collapsed": true
   },
   "outputs": [],
   "source": [
    "#api url for series name Weekly Lower 48 States Natural Gas Working Underground Storage, Weekly\n",
    "storageURL = 'http://api.eia.gov/series/?api_key=' + MY_KEY + '&series_id=NG.NW2_EPG0_SWO_R48_BCF.W&out=JSON'"
   ]
  },
  {
   "cell_type": "code",
   "execution_count": 13,
   "metadata": {
    "collapsed": false
   },
   "outputs": [],
   "source": [
    "#get requests data from specificied url\n",
    "storage = requests.get(storageURL)"
   ]
  },
  {
   "cell_type": "code",
   "execution_count": 15,
   "metadata": {
    "collapsed": false
   },
   "outputs": [],
   "source": [
    "#the request was for json formatting so uses requests' JSON decoder\n",
    "storage_json = storage.json()\n",
    "\n",
    "#storage_json is a nested dict, so take a look at it and find my way into the sub-dict with the data\n",
    "date_series = storage_json['series'][0]['data']"
   ]
  },
  {
   "cell_type": "code",
   "execution_count": 30,
   "metadata": {
    "collapsed": false
   },
   "outputs": [
    {
     "data": {
      "text/plain": [
       "[['20161230', 3311],\n",
       " ['20161223', 3360],\n",
       " ['20161216', 3597],\n",
       " ['20161209', 3806],\n",
       " ['20161202', 3953],\n",
       " ['20161125', 3995],\n",
       " ['20161118', 4045],\n",
       " ['20161111', 4047],\n",
       " ['20161104', 4017],\n",
       " ['20161028', 3963]]"
      ]
     },
     "execution_count": 30,
     "metadata": {},
     "output_type": "execute_result"
    }
   ],
   "source": [
    "date_series[0:10]"
   ]
  },
  {
   "cell_type": "code",
   "execution_count": 16,
   "metadata": {
    "collapsed": true
   },
   "outputs": [],
   "source": [
    "#loop through that date_series dict and make and array out of the date entries\n",
    "endi = len(date_series)\n",
    "date = []\n",
    "\n",
    "for i in range(endi):\n",
    "    date.append(date_series[i][0])"
   ]
  },
  {
   "cell_type": "code",
   "execution_count": 19,
   "metadata": {
    "collapsed": false
   },
   "outputs": [],
   "source": [
    "#convert that bad boy to a data frame\n",
    "df = pd.DataFrame(data=date)\n",
    "df.columns = ['Date']"
   ]
  },
  {
   "cell_type": "code",
   "execution_count": 20,
   "metadata": {
    "collapsed": true
   },
   "outputs": [],
   "source": [
    "#loop through the rest of the dict with and put the data in\n",
    "lenj = len(storage_json)-1\n",
    "\n",
    "for j in range (lenj):\n",
    "    data_series = storage_json['series'][0]['data']\n",
    "    data = []\n",
    "    endk = len(date_series) \n",
    "    for k in range (endk):\n",
    "        data.append(data_series[k][1])\n",
    "    df[j] = data"
   ]
  },
  {
   "cell_type": "code",
   "execution_count": 21,
   "metadata": {
    "collapsed": true
   },
   "outputs": [],
   "source": [
    "#rename columns\n",
    "df.columns = ['date','storageUS']\n",
    "\n",
    "#substring date to use for making a python datevariable, the infer datetime thing didnt work \n",
    "df['year'] = df['date'].apply(lambda t: t[0:4])\n",
    "df['year'] = df['year'].astype(int)\n",
    "\n",
    "df['month'] = df['date'].apply(lambda t: t[4:6])\n",
    "df['month'] = df['month'].astype(int)\n",
    "\n",
    "df['day'] = df['date'].apply(lambda t: t[-2:])\n",
    "df['day'] = df['day'].astype(int)"
   ]
  },
  {
   "cell_type": "code",
   "execution_count": 22,
   "metadata": {
    "collapsed": true
   },
   "outputs": [],
   "source": [
    "#date formatted as datetime\n",
    "df['date_f'] = pd.to_datetime(df.year*10000 + df.month*100 + df.day, format='%Y%m%d')"
   ]
  },
  {
   "cell_type": "code",
   "execution_count": 23,
   "metadata": {
    "collapsed": true
   },
   "outputs": [],
   "source": [
    "#week of year to make y-y comparisons\n",
    "df['week'] = df['date_f'].dt.week"
   ]
  },
  {
   "cell_type": "code",
   "execution_count": 24,
   "metadata": {
    "collapsed": true
   },
   "outputs": [],
   "source": [
    "#move the index to date time\n",
    "df.set_index(['date_f'], inplace = True)\n",
    "#sort by datetime acending, bc the data comes in most rescent first\n",
    "df = df.sort_index()\n",
    "#calc weekly storage change\n",
    "df['lastWeek'] = df['storageUS'].shift()\n",
    "df['change'] = df['storageUS'] - df['lastWeek']"
   ]
  },
  {
   "cell_type": "code",
   "execution_count": 25,
   "metadata": {
    "collapsed": true
   },
   "outputs": [],
   "source": [
    "#make it so the index label doesnt appear, just looks prettier\n",
    "df.index.name = None"
   ]
  },
  {
   "cell_type": "code",
   "execution_count": 27,
   "metadata": {
    "collapsed": false
   },
   "outputs": [
    {
     "data": {
      "text/html": [
       "<div>\n",
       "<table border=\"1\" class=\"dataframe\">\n",
       "  <thead>\n",
       "    <tr style=\"text-align: right;\">\n",
       "      <th></th>\n",
       "      <th>date</th>\n",
       "      <th>storageUS</th>\n",
       "      <th>year</th>\n",
       "      <th>month</th>\n",
       "      <th>day</th>\n",
       "      <th>week</th>\n",
       "      <th>lastWeek</th>\n",
       "      <th>change</th>\n",
       "    </tr>\n",
       "  </thead>\n",
       "  <tbody>\n",
       "    <tr>\n",
       "      <th>2016-12-02</th>\n",
       "      <td>20161202</td>\n",
       "      <td>3953</td>\n",
       "      <td>2016</td>\n",
       "      <td>12</td>\n",
       "      <td>2</td>\n",
       "      <td>48</td>\n",
       "      <td>3995.0</td>\n",
       "      <td>-42.0</td>\n",
       "    </tr>\n",
       "    <tr>\n",
       "      <th>2016-12-09</th>\n",
       "      <td>20161209</td>\n",
       "      <td>3806</td>\n",
       "      <td>2016</td>\n",
       "      <td>12</td>\n",
       "      <td>9</td>\n",
       "      <td>49</td>\n",
       "      <td>3953.0</td>\n",
       "      <td>-147.0</td>\n",
       "    </tr>\n",
       "    <tr>\n",
       "      <th>2016-12-16</th>\n",
       "      <td>20161216</td>\n",
       "      <td>3597</td>\n",
       "      <td>2016</td>\n",
       "      <td>12</td>\n",
       "      <td>16</td>\n",
       "      <td>50</td>\n",
       "      <td>3806.0</td>\n",
       "      <td>-209.0</td>\n",
       "    </tr>\n",
       "    <tr>\n",
       "      <th>2016-12-23</th>\n",
       "      <td>20161223</td>\n",
       "      <td>3360</td>\n",
       "      <td>2016</td>\n",
       "      <td>12</td>\n",
       "      <td>23</td>\n",
       "      <td>51</td>\n",
       "      <td>3597.0</td>\n",
       "      <td>-237.0</td>\n",
       "    </tr>\n",
       "    <tr>\n",
       "      <th>2016-12-30</th>\n",
       "      <td>20161230</td>\n",
       "      <td>3311</td>\n",
       "      <td>2016</td>\n",
       "      <td>12</td>\n",
       "      <td>30</td>\n",
       "      <td>52</td>\n",
       "      <td>3360.0</td>\n",
       "      <td>-49.0</td>\n",
       "    </tr>\n",
       "  </tbody>\n",
       "</table>\n",
       "</div>"
      ],
      "text/plain": [
       "                date  storageUS  year  month  day  week  lastWeek  change\n",
       "2016-12-02  20161202       3953  2016     12    2    48    3995.0   -42.0\n",
       "2016-12-09  20161209       3806  2016     12    9    49    3953.0  -147.0\n",
       "2016-12-16  20161216       3597  2016     12   16    50    3806.0  -209.0\n",
       "2016-12-23  20161223       3360  2016     12   23    51    3597.0  -237.0\n",
       "2016-12-30  20161230       3311  2016     12   30    52    3360.0   -49.0"
      ]
     },
     "execution_count": 27,
     "metadata": {},
     "output_type": "execute_result"
    }
   ],
   "source": [
    "df.tail()"
   ]
  }
 ],
 "metadata": {
  "anaconda-cloud": {},
  "kernelspec": {
   "display_name": "Python [default]",
   "language": "python",
   "name": "python3"
  },
  "language_info": {
   "codemirror_mode": {
    "name": "ipython",
    "version": 3
   },
   "file_extension": ".py",
   "mimetype": "text/x-python",
   "name": "python",
   "nbconvert_exporter": "python",
   "pygments_lexer": "ipython3",
   "version": "3.5.2"
  }
 },
 "nbformat": 4,
 "nbformat_minor": 1
}
